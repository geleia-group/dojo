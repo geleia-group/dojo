{
  "nbformat": 4,
  "nbformat_minor": 0,
  "metadata": {
    "colab": {
      "name": "dojo-covid.ipynb",
      "provenance": [],
      "collapsed_sections": []
    },
    "kernelspec": {
      "name": "python3",
      "display_name": "Python 3"
    },
    "accelerator": "GPU"
  },
  "cells": [
    {
      "cell_type": "code",
      "metadata": {
        "id": "4IilvARYqkfD",
        "colab_type": "code",
        "colab": {}
      },
      "source": [
        "# Colab: http://dojo.geleia.group/\n",
        "\n",
        "# Tutorial: https://medium.com/geleia/dojo-data-science-online-27122abea61b\n",
        "\n",
        "# Dataset: http://data.geleia.group\n",
        "\n",
        "# Populacao: http://pop.geleia.group\n",
        "\n",
        "# Cidades: http://cities.geleia.group\n",
        "\n",
        "# Objetivo: predizer doença cardiovascular\n",
        "\n",
        "# Meta: AUC > 0.75 | Sens > 80% | Espec: 95%"
      ],
      "execution_count": 1,
      "outputs": []
    },
    {
      "cell_type": "code",
      "metadata": {
        "id": "xSXLiUaruPjK",
        "colab_type": "code",
        "colab": {}
      },
      "source": [
        "# Dataset: corona-virus-brazil\n",
        "\n",
        "# Objetivo: Determinar qual cidade/região há maior INCIDÊNCIA de óbito de Covid no Brasil"
      ],
      "execution_count": 2,
      "outputs": []
    },
    {
      "cell_type": "code",
      "metadata": {
        "id": "KK-wWqa6t2-5",
        "colab_type": "code",
        "colab": {}
      },
      "source": [
        "import pandas as pd\n",
        "import os "
      ],
      "execution_count": 3,
      "outputs": []
    },
    {
      "cell_type": "code",
      "metadata": {
        "id": "AlM8Yhp6uDM0",
        "colab_type": "code",
        "colab": {}
      },
      "source": [
        "# df_covid = pd.read_csv('dojo-covid - brazil_covid19.csv')"
      ],
      "execution_count": 4,
      "outputs": []
    },
    {
      "cell_type": "code",
      "metadata": {
        "id": "rRlvDeFY22tn",
        "colab_type": "code",
        "colab": {}
      },
      "source": [
        "df_pop = pd.read_csv('http://pop.geleia.group')"
      ],
      "execution_count": 5,
      "outputs": []
    },
    {
      "cell_type": "code",
      "metadata": {
        "id": "iLUTjNQS3C11",
        "colab_type": "code",
        "colab": {}
      },
      "source": [
        "df_cities = pd.read_csv(\"http://cities.geleia.group\")"
      ],
      "execution_count": 17,
      "outputs": []
    },
    {
      "cell_type": "code",
      "metadata": {
        "id": "YFDcVsWR_GlJ",
        "colab_type": "code",
        "colab": {}
      },
      "source": [
        "import numpy as np\n",
        "df_cities['cases'] = df_cities['cases'].replace({0:np.nan})"
      ],
      "execution_count": 18,
      "outputs": []
    },
    {
      "cell_type": "code",
      "metadata": {
        "id": "HoJtCb_R22nV",
        "colab_type": "code",
        "colab": {
          "base_uri": "https://localhost:8080/",
          "height": 206
        },
        "outputId": "02e75548-e45c-4971-9a2e-c820d01508c2"
      },
      "source": [
        "df_cities.head()"
      ],
      "execution_count": 19,
      "outputs": [
        {
          "output_type": "execute_result",
          "data": {
            "text/html": [
              "<div>\n",
              "<style scoped>\n",
              "    .dataframe tbody tr th:only-of-type {\n",
              "        vertical-align: middle;\n",
              "    }\n",
              "\n",
              "    .dataframe tbody tr th {\n",
              "        vertical-align: top;\n",
              "    }\n",
              "\n",
              "    .dataframe thead th {\n",
              "        text-align: right;\n",
              "    }\n",
              "</style>\n",
              "<table border=\"1\" class=\"dataframe\">\n",
              "  <thead>\n",
              "    <tr style=\"text-align: right;\">\n",
              "      <th></th>\n",
              "      <th>date</th>\n",
              "      <th>state</th>\n",
              "      <th>name</th>\n",
              "      <th>code</th>\n",
              "      <th>cases</th>\n",
              "      <th>deaths</th>\n",
              "    </tr>\n",
              "  </thead>\n",
              "  <tbody>\n",
              "    <tr>\n",
              "      <th>0</th>\n",
              "      <td>2020-03-27</td>\n",
              "      <td>AC</td>\n",
              "      <td>Acrelândia</td>\n",
              "      <td>120001.0</td>\n",
              "      <td>NaN</td>\n",
              "      <td>0</td>\n",
              "    </tr>\n",
              "    <tr>\n",
              "      <th>1</th>\n",
              "      <td>2020-03-27</td>\n",
              "      <td>AC</td>\n",
              "      <td>Assis Brasil</td>\n",
              "      <td>120005.0</td>\n",
              "      <td>NaN</td>\n",
              "      <td>0</td>\n",
              "    </tr>\n",
              "    <tr>\n",
              "      <th>2</th>\n",
              "      <td>2020-03-27</td>\n",
              "      <td>AC</td>\n",
              "      <td>Brasiléia</td>\n",
              "      <td>120010.0</td>\n",
              "      <td>NaN</td>\n",
              "      <td>0</td>\n",
              "    </tr>\n",
              "    <tr>\n",
              "      <th>3</th>\n",
              "      <td>2020-03-27</td>\n",
              "      <td>AC</td>\n",
              "      <td>Bujari</td>\n",
              "      <td>120013.0</td>\n",
              "      <td>NaN</td>\n",
              "      <td>0</td>\n",
              "    </tr>\n",
              "    <tr>\n",
              "      <th>4</th>\n",
              "      <td>2020-03-27</td>\n",
              "      <td>AC</td>\n",
              "      <td>Capixaba</td>\n",
              "      <td>120017.0</td>\n",
              "      <td>NaN</td>\n",
              "      <td>0</td>\n",
              "    </tr>\n",
              "  </tbody>\n",
              "</table>\n",
              "</div>"
            ],
            "text/plain": [
              "         date state          name      code  cases  deaths\n",
              "0  2020-03-27    AC    Acrelândia  120001.0    NaN       0\n",
              "1  2020-03-27    AC  Assis Brasil  120005.0    NaN       0\n",
              "2  2020-03-27    AC     Brasiléia  120010.0    NaN       0\n",
              "3  2020-03-27    AC        Bujari  120013.0    NaN       0\n",
              "4  2020-03-27    AC      Capixaba  120017.0    NaN       0"
            ]
          },
          "metadata": {
            "tags": []
          },
          "execution_count": 19
        }
      ]
    },
    {
      "cell_type": "code",
      "metadata": {
        "id": "FeqG_TOFyMLM",
        "colab_type": "code",
        "colab": {}
      },
      "source": [
        "df_cities['date'] = pd.to_datetime(df_cities['date'])"
      ],
      "execution_count": 20,
      "outputs": []
    },
    {
      "cell_type": "code",
      "metadata": {
        "id": "A_OAboZFy3ce",
        "colab_type": "code",
        "colab": {}
      },
      "source": [
        "df_maio = df_cities[(df_cities['date'] > pd.to_datetime('2020-05-01')) & (df_cities['date'] < pd.to_datetime('2020-05-31'))]"
      ],
      "execution_count": 21,
      "outputs": []
    },
    {
      "cell_type": "code",
      "metadata": {
        "id": "4E_JfmO3z_Rf",
        "colab_type": "code",
        "colab": {
          "base_uri": "https://localhost:8080/",
          "height": 206
        },
        "outputId": "8c7850ef-7ef3-4a0f-e422-8688a97b8028"
      },
      "source": [
        "df_maio.head()"
      ],
      "execution_count": 22,
      "outputs": [
        {
          "output_type": "execute_result",
          "data": {
            "text/html": [
              "<div>\n",
              "<style scoped>\n",
              "    .dataframe tbody tr th:only-of-type {\n",
              "        vertical-align: middle;\n",
              "    }\n",
              "\n",
              "    .dataframe tbody tr th {\n",
              "        vertical-align: top;\n",
              "    }\n",
              "\n",
              "    .dataframe thead th {\n",
              "        text-align: right;\n",
              "    }\n",
              "</style>\n",
              "<table border=\"1\" class=\"dataframe\">\n",
              "  <thead>\n",
              "    <tr style=\"text-align: right;\">\n",
              "      <th></th>\n",
              "      <th>date</th>\n",
              "      <th>state</th>\n",
              "      <th>name</th>\n",
              "      <th>code</th>\n",
              "      <th>cases</th>\n",
              "      <th>deaths</th>\n",
              "    </tr>\n",
              "  </thead>\n",
              "  <tbody>\n",
              "    <tr>\n",
              "      <th>181260</th>\n",
              "      <td>2020-05-02</td>\n",
              "      <td>AC</td>\n",
              "      <td>Acrelândia</td>\n",
              "      <td>120001.0</td>\n",
              "      <td>13.0</td>\n",
              "      <td>0</td>\n",
              "    </tr>\n",
              "    <tr>\n",
              "      <th>181261</th>\n",
              "      <td>2020-05-02</td>\n",
              "      <td>AC</td>\n",
              "      <td>Assis Brasil</td>\n",
              "      <td>120005.0</td>\n",
              "      <td>1.0</td>\n",
              "      <td>0</td>\n",
              "    </tr>\n",
              "    <tr>\n",
              "      <th>181262</th>\n",
              "      <td>2020-05-02</td>\n",
              "      <td>AC</td>\n",
              "      <td>Brasiléia</td>\n",
              "      <td>120010.0</td>\n",
              "      <td>NaN</td>\n",
              "      <td>0</td>\n",
              "    </tr>\n",
              "    <tr>\n",
              "      <th>181263</th>\n",
              "      <td>2020-05-02</td>\n",
              "      <td>AC</td>\n",
              "      <td>Bujari</td>\n",
              "      <td>120013.0</td>\n",
              "      <td>2.0</td>\n",
              "      <td>0</td>\n",
              "    </tr>\n",
              "    <tr>\n",
              "      <th>181264</th>\n",
              "      <td>2020-05-02</td>\n",
              "      <td>AC</td>\n",
              "      <td>Capixaba</td>\n",
              "      <td>120017.0</td>\n",
              "      <td>NaN</td>\n",
              "      <td>0</td>\n",
              "    </tr>\n",
              "  </tbody>\n",
              "</table>\n",
              "</div>"
            ],
            "text/plain": [
              "             date state          name      code  cases  deaths\n",
              "181260 2020-05-02    AC    Acrelândia  120001.0   13.0       0\n",
              "181261 2020-05-02    AC  Assis Brasil  120005.0    1.0       0\n",
              "181262 2020-05-02    AC     Brasiléia  120010.0    NaN       0\n",
              "181263 2020-05-02    AC        Bujari  120013.0    2.0       0\n",
              "181264 2020-05-02    AC      Capixaba  120017.0    NaN       0"
            ]
          },
          "metadata": {
            "tags": []
          },
          "execution_count": 22
        }
      ]
    },
    {
      "cell_type": "code",
      "metadata": {
        "id": "v2492PFU3iv2",
        "colab_type": "code",
        "colab": {}
      },
      "source": [
        "sudeste = ['ES', 'RJ', 'SP', \"MG\"]"
      ],
      "execution_count": 23,
      "outputs": []
    },
    {
      "cell_type": "code",
      "metadata": {
        "id": "5uWQOwS_3pFE",
        "colab_type": "code",
        "colab": {}
      },
      "source": [
        "df_maio_SE = df_maio[(df_maio['state'] == 'ES') | (df_maio['state'] == 'RJ') | (df_maio['state'] == 'SP') | (df_maio['state'] == 'MG')]"
      ],
      "execution_count": 24,
      "outputs": []
    },
    {
      "cell_type": "code",
      "metadata": {
        "id": "SJCMZ0xj4yit",
        "colab_type": "code",
        "colab": {
          "base_uri": "https://localhost:8080/",
          "height": 206
        },
        "outputId": "ac22b31e-3974-4d8d-86bd-c6fa60700183"
      },
      "source": [
        "df_maio_SE.head()"
      ],
      "execution_count": 25,
      "outputs": [
        {
          "output_type": "execute_result",
          "data": {
            "text/html": [
              "<div>\n",
              "<style scoped>\n",
              "    .dataframe tbody tr th:only-of-type {\n",
              "        vertical-align: middle;\n",
              "    }\n",
              "\n",
              "    .dataframe tbody tr th {\n",
              "        vertical-align: top;\n",
              "    }\n",
              "\n",
              "    .dataframe thead th {\n",
              "        text-align: right;\n",
              "    }\n",
              "</style>\n",
              "<table border=\"1\" class=\"dataframe\">\n",
              "  <thead>\n",
              "    <tr style=\"text-align: right;\">\n",
              "      <th></th>\n",
              "      <th>date</th>\n",
              "      <th>state</th>\n",
              "      <th>name</th>\n",
              "      <th>code</th>\n",
              "      <th>cases</th>\n",
              "      <th>deaths</th>\n",
              "    </tr>\n",
              "  </thead>\n",
              "  <tbody>\n",
              "    <tr>\n",
              "      <th>182031</th>\n",
              "      <td>2020-05-02</td>\n",
              "      <td>ES</td>\n",
              "      <td>Afonso Cláudio</td>\n",
              "      <td>320010.0</td>\n",
              "      <td>11.0</td>\n",
              "      <td>2</td>\n",
              "    </tr>\n",
              "    <tr>\n",
              "      <th>182032</th>\n",
              "      <td>2020-05-02</td>\n",
              "      <td>ES</td>\n",
              "      <td>Águia Branca</td>\n",
              "      <td>320013.0</td>\n",
              "      <td>NaN</td>\n",
              "      <td>0</td>\n",
              "    </tr>\n",
              "    <tr>\n",
              "      <th>182033</th>\n",
              "      <td>2020-05-02</td>\n",
              "      <td>ES</td>\n",
              "      <td>Água Doce do Norte</td>\n",
              "      <td>320016.0</td>\n",
              "      <td>NaN</td>\n",
              "      <td>0</td>\n",
              "    </tr>\n",
              "    <tr>\n",
              "      <th>182034</th>\n",
              "      <td>2020-05-02</td>\n",
              "      <td>ES</td>\n",
              "      <td>Alegre</td>\n",
              "      <td>320020.0</td>\n",
              "      <td>3.0</td>\n",
              "      <td>0</td>\n",
              "    </tr>\n",
              "    <tr>\n",
              "      <th>182035</th>\n",
              "      <td>2020-05-02</td>\n",
              "      <td>ES</td>\n",
              "      <td>Alfredo Chaves</td>\n",
              "      <td>320030.0</td>\n",
              "      <td>19.0</td>\n",
              "      <td>0</td>\n",
              "    </tr>\n",
              "  </tbody>\n",
              "</table>\n",
              "</div>"
            ],
            "text/plain": [
              "             date state                name      code  cases  deaths\n",
              "182031 2020-05-02    ES      Afonso Cláudio  320010.0   11.0       2\n",
              "182032 2020-05-02    ES        Águia Branca  320013.0    NaN       0\n",
              "182033 2020-05-02    ES  Água Doce do Norte  320016.0    NaN       0\n",
              "182034 2020-05-02    ES              Alegre  320020.0    3.0       0\n",
              "182035 2020-05-02    ES      Alfredo Chaves  320030.0   19.0       0"
            ]
          },
          "metadata": {
            "tags": []
          },
          "execution_count": 25
        }
      ]
    },
    {
      "cell_type": "code",
      "metadata": {
        "id": "OPFi8RIW9sKu",
        "colab_type": "code",
        "colab": {}
      },
      "source": [
        "dfnan = df_maio_SE.dropna(axis=0)"
      ],
      "execution_count": 31,
      "outputs": []
    },
    {
      "cell_type": "code",
      "metadata": {
        "id": "W8WpyFJc_uk4",
        "colab_type": "code",
        "colab": {
          "base_uri": "https://localhost:8080/",
          "height": 121
        },
        "outputId": "e6203c06-258f-4cd5-b3a7-78c9e7bb3c7c"
      },
      "source": [
        "dfnan['letal'] = dfnan['deaths']/dfnan['cases']"
      ],
      "execution_count": 34,
      "outputs": [
        {
          "output_type": "stream",
          "text": [
            "/usr/local/lib/python3.6/dist-packages/ipykernel_launcher.py:1: SettingWithCopyWarning: \n",
            "A value is trying to be set on a copy of a slice from a DataFrame.\n",
            "Try using .loc[row_indexer,col_indexer] = value instead\n",
            "\n",
            "See the caveats in the documentation: https://pandas.pydata.org/pandas-docs/stable/user_guide/indexing.html#returning-a-view-versus-a-copy\n",
            "  \"\"\"Entry point for launching an IPython kernel.\n"
          ],
          "name": "stderr"
        }
      ]
    },
    {
      "cell_type": "code",
      "metadata": {
        "id": "06eH5MQb9sE3",
        "colab_type": "code",
        "colab": {
          "base_uri": "https://localhost:8080/",
          "height": 206
        },
        "outputId": "0b8d3a23-10d5-40df-bf2c-7963ab4b8af1"
      },
      "source": [
        "dfnan.head()"
      ],
      "execution_count": 35,
      "outputs": [
        {
          "output_type": "execute_result",
          "data": {
            "text/html": [
              "<div>\n",
              "<style scoped>\n",
              "    .dataframe tbody tr th:only-of-type {\n",
              "        vertical-align: middle;\n",
              "    }\n",
              "\n",
              "    .dataframe tbody tr th {\n",
              "        vertical-align: top;\n",
              "    }\n",
              "\n",
              "    .dataframe thead th {\n",
              "        text-align: right;\n",
              "    }\n",
              "</style>\n",
              "<table border=\"1\" class=\"dataframe\">\n",
              "  <thead>\n",
              "    <tr style=\"text-align: right;\">\n",
              "      <th></th>\n",
              "      <th>date</th>\n",
              "      <th>state</th>\n",
              "      <th>name</th>\n",
              "      <th>code</th>\n",
              "      <th>cases</th>\n",
              "      <th>deaths</th>\n",
              "      <th>letal</th>\n",
              "    </tr>\n",
              "  </thead>\n",
              "  <tbody>\n",
              "    <tr>\n",
              "      <th>182031</th>\n",
              "      <td>2020-05-02</td>\n",
              "      <td>ES</td>\n",
              "      <td>Afonso Cláudio</td>\n",
              "      <td>320010.0</td>\n",
              "      <td>11.0</td>\n",
              "      <td>2</td>\n",
              "      <td>0.181818</td>\n",
              "    </tr>\n",
              "    <tr>\n",
              "      <th>182034</th>\n",
              "      <td>2020-05-02</td>\n",
              "      <td>ES</td>\n",
              "      <td>Alegre</td>\n",
              "      <td>320020.0</td>\n",
              "      <td>3.0</td>\n",
              "      <td>0</td>\n",
              "      <td>0.000000</td>\n",
              "    </tr>\n",
              "    <tr>\n",
              "      <th>182035</th>\n",
              "      <td>2020-05-02</td>\n",
              "      <td>ES</td>\n",
              "      <td>Alfredo Chaves</td>\n",
              "      <td>320030.0</td>\n",
              "      <td>19.0</td>\n",
              "      <td>0</td>\n",
              "      <td>0.000000</td>\n",
              "    </tr>\n",
              "    <tr>\n",
              "      <th>182037</th>\n",
              "      <td>2020-05-02</td>\n",
              "      <td>ES</td>\n",
              "      <td>Anchieta</td>\n",
              "      <td>320040.0</td>\n",
              "      <td>10.0</td>\n",
              "      <td>0</td>\n",
              "      <td>0.000000</td>\n",
              "    </tr>\n",
              "    <tr>\n",
              "      <th>182038</th>\n",
              "      <td>2020-05-02</td>\n",
              "      <td>ES</td>\n",
              "      <td>Apiacá</td>\n",
              "      <td>320050.0</td>\n",
              "      <td>3.0</td>\n",
              "      <td>0</td>\n",
              "      <td>0.000000</td>\n",
              "    </tr>\n",
              "  </tbody>\n",
              "</table>\n",
              "</div>"
            ],
            "text/plain": [
              "             date state            name      code  cases  deaths     letal\n",
              "182031 2020-05-02    ES  Afonso Cláudio  320010.0   11.0       2  0.181818\n",
              "182034 2020-05-02    ES          Alegre  320020.0    3.0       0  0.000000\n",
              "182035 2020-05-02    ES  Alfredo Chaves  320030.0   19.0       0  0.000000\n",
              "182037 2020-05-02    ES        Anchieta  320040.0   10.0       0  0.000000\n",
              "182038 2020-05-02    ES          Apiacá  320050.0    3.0       0  0.000000"
            ]
          },
          "metadata": {
            "tags": []
          },
          "execution_count": 35
        }
      ]
    },
    {
      "cell_type": "code",
      "metadata": {
        "id": "KkyqF-8h0SxR",
        "colab_type": "code",
        "colab": {
          "base_uri": "https://localhost:8080/",
          "height": 410
        },
        "outputId": "c43994c1-0da5-469e-c02e-3c522aca72c2"
      },
      "source": [
        "dfnan.groupby(['name']).sum()['letal'].sort_values(ascending=False)[:20].plot(kind='bar')"
      ],
      "execution_count": 51,
      "outputs": [
        {
          "output_type": "execute_result",
          "data": {
            "text/plain": [
              "<matplotlib.axes._subplots.AxesSubplot at 0x7f5421bcb048>"
            ]
          },
          "metadata": {
            "tags": []
          },
          "execution_count": 51
        },
        {
          "output_type": "display_data",
          "data": {
            "image/png": "[encoded data removed]",
            "text/plain": [
              "<Figure size 432x288 with 1 Axes>"
            ]
          },
          "metadata": {
            "tags": [],
            "needs_background": "light"
          }
        }
      ]
    },
    {
      "cell_type": "code",
      "metadata": {
        "id": "b7jhl0ll0XGx",
        "colab_type": "code",
        "colab": {}
      },
      "source": [
        "df_SE.head()"
      ],
      "execution_count": null,
      "outputs": []
    },
    {
      "cell_type": "code",
      "metadata": {
        "id": "KN-YXuNw2P9z",
        "colab_type": "code",
        "colab": {}
      },
      "source": [
        ""
      ],
      "execution_count": null,
      "outputs": []
    }
  ]
}